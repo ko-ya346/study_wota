{
 "cells": [
  {
   "cell_type": "markdown",
   "id": "d3ca6c42",
   "metadata": {},
   "source": [
    "https://zenn.dev/thimblee/articles/ml_prml_perceptron"
   ]
  },
  {
   "cell_type": "markdown",
   "id": "5d71c6b5",
   "metadata": {},
   "source": [
    "# 第7章パーセプトロン型学習規則"
   ]
  },
  {
   "cell_type": "markdown",
   "id": "e504b341",
   "metadata": {
    "ExecuteTime": {
     "end_time": "2022-12-21T14:20:52.111939Z",
     "start_time": "2022-12-21T14:20:52.106728Z"
    }
   },
   "source": [
    "- パーセプトロンを実装してみる\n",
    "- 適当なデータを放り込んで、識別境界の変化を見る\n",
    "- パラメータの初期値を0と乱数でやってみる"
   ]
  },
  {
   "cell_type": "code",
   "execution_count": 45,
   "id": "20cc8eac",
   "metadata": {
    "ExecuteTime": {
     "end_time": "2022-12-21T14:49:38.436386Z",
     "start_time": "2022-12-21T14:49:38.251056Z"
    }
   },
   "outputs": [],
   "source": [
    "import os\n",
    "from typing import List\n",
    "\n",
    "import pandas as pd\n",
    "import numpy as np\n",
    "\n",
    "import matplotlib.pyplot as plt\n"
   ]
  },
  {
   "cell_type": "code",
   "execution_count": 242,
   "id": "46eda002",
   "metadata": {
    "ExecuteTime": {
     "end_time": "2022-12-21T15:40:12.838670Z",
     "start_time": "2022-12-21T15:40:12.835068Z"
    }
   },
   "outputs": [],
   "source": [
    "class Perceptron:\n",
    "    def __init__(self, dim=1, eta=1, init_w=None):\n",
    "        self.w = self.set_init_w(dim, init_w)\n",
    "        \n",
    "        # パラメータの変化を記録\n",
    "        self.w_l = [self.w]\n",
    "        assert len(self.w) == dim + 1\n",
    "        # 学習率\n",
    "        self.eta = eta\n",
    "    \n",
    "    def forward(self, x):\n",
    "        return np.sign((x * model.w).sum(axis=1))\n",
    "        \n",
    "    def update_w(self, output, y):\n",
    "        # 出力と正解データが異なる場合のみパラメータを更新\n",
    "        # サンプルデータをwに加える\n",
    "        self.w += np.dot((output != y) * np.sign(y), x)\n",
    "        self.w_l.append(self.w)\n",
    "        \n",
    "    def set_init_w(self, dim, init_w):\n",
    "        if init_w is None:\n",
    "            # 正規分布の乱数生成\n",
    "            w = np.random.randn(dim + 1)\n",
    "        else:\n",
    "            w = np.zeros(dim + 1)\n",
    "        return w\n",
    "            \n"
   ]
  },
  {
   "cell_type": "code",
   "execution_count": 243,
   "id": "edd286b7",
   "metadata": {
    "ExecuteTime": {
     "end_time": "2022-12-21T15:41:01.504146Z",
     "start_time": "2022-12-21T15:41:01.501602Z"
    }
   },
   "outputs": [],
   "source": [
    "def get_sample(dim, n):\n",
    "    x = np.random.rand(n, dim) * 2 - 1\n",
    "    # バイアス項を追加\n",
    "    x = np.hstack((np.ones((n, 1)), x))\n",
    "    \n",
    "    # ラベルは[1, -1]のどっちか\n",
    "    y = np.where(np.array(x[:, 1] < x[:, 2]), 1, -1)\n",
    "    return x, y"
   ]
  },
  {
   "cell_type": "code",
   "execution_count": 246,
   "id": "f4219418",
   "metadata": {
    "ExecuteTime": {
     "end_time": "2022-12-21T15:42:26.676084Z",
     "start_time": "2022-12-21T15:42:26.672359Z"
    }
   },
   "outputs": [
    {
     "name": "stdout",
     "output_type": "stream",
     "text": [
      "[[ 1.         -0.82994458  0.43417819]\n",
      " [ 1.         -0.98013755 -0.70809928]\n",
      " [ 1.         -0.60649051  0.96551072]\n",
      " [ 1.         -0.57876616 -0.68800167]\n",
      " [ 1.          0.41333103 -0.36506763]\n",
      " [ 1.         -0.53381239  0.37419489]\n",
      " [ 1.         -0.75743577 -0.43232799]\n",
      " [ 1.          0.08665092  0.04704151]\n",
      " [ 1.         -0.29339621 -0.74651317]\n",
      " [ 1.          0.37236434 -0.08381488]]\n",
      "[ 1  1  1 -1 -1  1  1 -1 -1 -1]\n"
     ]
    }
   ],
   "source": [
    "# 特徴ベクトルの次元数\n",
    "dim = 2\n",
    "# サンプル数\n",
    "n = 10\n",
    "\n",
    "x, y = get_sample(dim, n)\n",
    "\n",
    "print(x)\n",
    "print(y)\n",
    "\n",
    "# パーセプトロンのモデル定義\n",
    "eta = 0.01\n",
    "model = Perceptron(dim=dim, eta=eta)"
   ]
  },
  {
   "cell_type": "code",
   "execution_count": 248,
   "id": "99d554ef",
   "metadata": {
    "ExecuteTime": {
     "end_time": "2022-12-21T15:43:09.187190Z",
     "start_time": "2022-12-21T15:43:09.092128Z"
    }
   },
   "outputs": [
    {
     "data": {
      "image/png": "[encoded data removed]",
      "text/plain": [
       "<Figure size 432x288 with 1 Axes>"
      ]
     },
     "metadata": {
      "needs_background": "light"
     },
     "output_type": "display_data"
    }
   ],
   "source": [
    "# サンプルを可視化してみる\n",
    "# クラスで色分け\n",
    "class1_cond = y >= 0\n",
    "class2_cond = y < 0\n",
    "\n",
    "plt.scatter(x[class1_cond, 1], x[class1_cond, 2], color=\"r\", label=\"c1\")\n",
    "plt.scatter(x[class2_cond, 1], x[class2_cond, 2], color=\"b\", label=\"c2\")\n",
    "\n",
    "# 初期パラメータの識別境界を可視化\n",
    "xx = np.linspace(-1, 1, 20)\n",
    "plt.plot(xx, (model.w[0] + model.w[1] * xx) / model.w[2] * -1)\n",
    "\n",
    "plt.legend()\n",
    "plt.show()\n"
   ]
  },
  {
   "cell_type": "code",
   "execution_count": 249,
   "id": "434ed73f",
   "metadata": {
    "ExecuteTime": {
     "end_time": "2022-12-21T15:43:26.528860Z",
     "start_time": "2022-12-21T15:43:26.517015Z"
    }
   },
   "outputs": [
    {
     "name": "stdout",
     "output_type": "stream",
     "text": [
      "iter: 1\n",
      "accuracy: 0.5\n",
      "iter: 2\n",
      "accuracy: 0.5\n",
      "iter: 3\n",
      "accuracy: 1.0\n",
      "iter: 4\n",
      "accuracy: 1.0\n",
      "iter: 5\n",
      "accuracy: 1.0\n",
      "iter: 6\n",
      "accuracy: 1.0\n",
      "iter: 7\n",
      "accuracy: 1.0\n",
      "iter: 8\n",
      "accuracy: 1.0\n",
      "iter: 9\n",
      "accuracy: 1.0\n",
      "iter: 10\n",
      "accuracy: 1.0\n"
     ]
    }
   ],
   "source": [
    "# 学習回数\n",
    "n_iter = 10\n",
    "\n",
    "accuracy_l = []\n",
    "\n",
    "for i in range(n_iter):\n",
    "    print(f\"iter: {i + 1}\")\n",
    "    output = model.forward(x)\n",
    "    accuracy = np.sum(output == y) / len(y)\n",
    "    print(f\"accuracy: {accuracy}\")\n",
    "    accuracy_l.append(accuracy)\n",
    "\n",
    "    # パラメータ更新\n",
    "    model.update_w(output, y)"
   ]
  },
  {
   "cell_type": "code",
   "execution_count": 250,
   "id": "2bea463c",
   "metadata": {
    "ExecuteTime": {
     "end_time": "2022-12-21T15:43:37.666945Z",
     "start_time": "2022-12-21T15:43:37.571178Z"
    }
   },
   "outputs": [
    {
     "data": {
      "image/png": "[encoded data removed]",
      "text/plain": [
       "<Figure size 432x288 with 1 Axes>"
      ]
     },
     "metadata": {
      "needs_background": "light"
     },
     "output_type": "display_data"
    }
   ],
   "source": [
    "# 学習後の識別境界を可視化\n",
    "plt.scatter(x[class1_cond, 1], x[class1_cond, 2], color=\"r\", label=\"c1\")\n",
    "plt.scatter(x[class2_cond, 1], x[class2_cond, 2], color=\"b\", label=\"c2\")\n",
    "\n",
    "xx = np.linspace(-1, 1, 20)\n",
    "plt.plot(xx, (model.w[0] + model.w[1] * xx) / model.w[2] * -1)\n",
    "plt.legend()\n",
    "plt.show()"
   ]
  },
  {
   "cell_type": "code",
   "execution_count": 251,
   "id": "f1f2f330",
   "metadata": {
    "ExecuteTime": {
     "end_time": "2022-12-21T15:43:53.311705Z",
     "start_time": "2022-12-21T15:43:53.307964Z"
    }
   },
   "outputs": [
    {
     "data": {
      "text/plain": [
       "[array([-0.84465688, -4.01116662,  2.73356455]),\n",
       " array([-0.84465688, -4.01116662,  2.73356455]),\n",
       " array([-0.84465688, -4.01116662,  2.73356455]),\n",
       " array([-0.84465688, -4.01116662,  2.73356455]),\n",
       " array([-0.84465688, -4.01116662,  2.73356455]),\n",
       " array([-0.84465688, -4.01116662,  2.73356455]),\n",
       " array([-0.84465688, -4.01116662,  2.73356455]),\n",
       " array([-0.84465688, -4.01116662,  2.73356455]),\n",
       " array([-0.84465688, -4.01116662,  2.73356455]),\n",
       " array([-0.84465688, -4.01116662,  2.73356455]),\n",
       " array([-0.84465688, -4.01116662,  2.73356455])]"
      ]
     },
     "execution_count": 251,
     "metadata": {},
     "output_type": "execute_result"
    }
   ],
   "source": [
    "# パラメータの変化の様子\n",
    "model.w_l"
   ]
  },
  {
   "cell_type": "code",
   "execution_count": null,
   "id": "8a65c356",
   "metadata": {},
   "outputs": [],
   "source": []
  }
 ],
 "metadata": {
  "kernelspec": {
   "display_name": "Python 3 (ipykernel)",
   "language": "python",
   "name": "python3"
  },
  "language_info": {
   "codemirror_mode": {
    "name": "ipython",
    "version": 3
   },
   "file_extension": ".py",
   "mimetype": "text/x-python",
   "name": "python",
   "nbconvert_exporter": "python",
   "pygments_lexer": "ipython3",
   "version": "3.8.10"
  },
  "toc": {
   "base_numbering": 1,
   "nav_menu": {},
   "number_sections": true,
   "sideBar": true,
   "skip_h1_title": false,
   "title_cell": "Table of Contents",
   "title_sidebar": "Contents",
   "toc_cell": false,
   "toc_position": {},
   "toc_section_display": true,
   "toc_window_display": false
  }
 },
 "nbformat": 4,
 "nbformat_minor": 5
}
